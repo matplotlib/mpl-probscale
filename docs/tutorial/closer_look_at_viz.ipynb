{
 "cells": [
  {
   "cell_type": "markdown",
   "metadata": {},
   "source": [
    "# A closer look at probability plots\n",
    "\n",
    "## Overview\n",
    "\n",
    "The `probscale.probplot` function let's you do a couple of things. They are:\n",
    "\n",
    "  1. Creating percentile, quantile, or probability plots.\n",
    "  1. Placing your probability scale either axis.\n",
    "  1. Specifying an arbitrary distribution for your probability scale.\n",
    "  1. Drawing a best-fit line line in linear-probability or log-probability space.\n",
    "  1. Computing the plotting positions of your data anyway you want.\n",
    "  1. Using probability axes on seaborn `FacetGrids`\n",
    "  \n",
    "We'll go over all of these options in this tutorial.\n"
   ]
  },
  {
   "cell_type": "code",
   "execution_count": null,
   "metadata": {
    "collapsed": true
   },
   "outputs": [],
   "source": [
    "%matplotlib inline"
   ]
  },
  {
   "cell_type": "code",
   "execution_count": null,
   "metadata": {
    "collapsed": true
   },
   "outputs": [],
   "source": [
    "import warnings\n",
    "warnings.simplefilter('ignore')\n",
    "\n",
    "import numpy\n",
    "from matplotlib import pyplot\n",
    "import seaborn\n",
    "\n",
    "import probscale\n",
    "clear_bkgd = {'axes.facecolor':'none', 'figure.facecolor':'none'}\n",
    "seaborn.set(style='ticks', context='talk', color_codes=True, rc=clear_bkgd)\n",
    "\n",
    "# load up some example data from the seaborn package\n",
    "tips = seaborn.load_dataset(\"tips\")\n",
    "iris = seaborn.load_dataset(\"iris\")"
   ]
  },
  {
   "cell_type": "markdown",
   "metadata": {},
   "source": [
    "## Different plot types\n",
    "\n",
    "In general, there are three plot types:\n",
    "\n",
    "  1. Percentile, a.k.a. P-P plots\n",
    "  1. Quantile, a.k.a. Q-Q plots\n",
    "  1. Probability, a.k.a. Prob Plots\n",
    "  \n",
    "### Percentile plots\n",
    "Percentile plots are the simplest plots.\n",
    "You simply plot the data against their plotting positions.\n",
    "The plotting positions are shown on a linear scale, but the data can be scaled as appropriate.\n",
    "\n",
    "If you were doing that from scratch, it would look like this:"
   ]
  },
  {
   "cell_type": "code",
   "execution_count": null,
   "metadata": {
    "collapsed": false
   },
   "outputs": [],
   "source": [
    "position, bill = probscale.plot_pos(tips['total_bill'])\n",
    "position *= 100\n",
    "fig, ax = pyplot.subplots(figsize=(6, 3))\n",
    "ax.plot(position, bill, marker='.', linestyle='none', label='Bill amount')\n",
    "ax.set_xlabel('Percentile')\n",
    "ax.set_ylabel('Total Bill (USD)')\n",
    "ax.set_yscale('log')\n",
    "ax.set_ylim(bottom=1, top=100)\n",
    "seaborn.despine()"
   ]
  },
  {
   "cell_type": "markdown",
   "metadata": {},
   "source": [
    "Using the `probplot` function with `plottype='pp'`, it becomes:"
   ]
  },
  {
   "cell_type": "code",
   "execution_count": null,
   "metadata": {
    "collapsed": false
   },
   "outputs": [],
   "source": [
    "fig, ax = pyplot.subplots(figsize=(6, 3))\n",
    "fig = probscale.probplot(tips['total_bill'], ax=ax, plottype='pp', datascale='log',\n",
    "                         problabel='Percentile', datalabel='Total Bill (USD)',\n",
    "                         scatter_kws=dict(marker='.', linestyle='none', label='Bill Amount'))\n",
    "ax.set_ylim(bottom=1, top=100)\n",
    "seaborn.despine()"
   ]
  },
  {
   "cell_type": "markdown",
   "metadata": {},
   "source": [
    "### Quantile plots\n",
    "\n",
    "Quantile plots are similar to propbabilty plots.\n",
    "The main differences is that plotting positions are converted into quantiles or $Z$-scores based on a probability distribution.\n",
    "The default distribution is the standard-normal distribution.\n",
    "Using a different distribution is covered further down.\n",
    "\n",
    "Usings the same dataset as a above let's make a quantile plot. Like above, we'll do it from scratch and then using `probplot`."
   ]
  },
  {
   "cell_type": "code",
   "execution_count": null,
   "metadata": {
    "collapsed": false
   },
   "outputs": [],
   "source": [
    "from scipy import stats\n",
    "\n",
    "position, bill = probscale.plot_pos(tips['total_bill'])\n",
    "quantile = stats.norm.ppf(position)\n",
    "\n",
    "fig, ax = pyplot.subplots(figsize=(6, 3))\n",
    "ax.plot(quantile, bill, marker='.', linestyle='none', label='Bill amount')\n",
    "ax.set_xlabel('Normal Quantiles')\n",
    "ax.set_ylabel('Total Bill (USD)')\n",
    "ax.set_yscale('log')\n",
    "ax.set_ylim(bottom=1, top=100)\n",
    "seaborn.despine()"
   ]
  },
  {
   "cell_type": "markdown",
   "metadata": {},
   "source": [
    "Using `probplot`:"
   ]
  },
  {
   "cell_type": "code",
   "execution_count": null,
   "metadata": {
    "collapsed": false
   },
   "outputs": [],
   "source": [
    "fig, ax = pyplot.subplots(figsize=(6, 3))\n",
    "fig = probscale.probplot(tips['total_bill'], ax=ax, plottype='qq', datascale='log', \n",
    "                         problabel='Standard Normal Quantiles', datalabel='Total Bill (USD)',\n",
    "                         scatter_kws=dict(marker='.', linestyle='none', label='Bill Amount'))\n",
    "\n",
    "ax.set_ylim(bottom=1, top=100)\n",
    "seaborn.despine()"
   ]
  },
  {
   "cell_type": "markdown",
   "metadata": {},
   "source": [
    "You'll notice that the shape of the data is straighter on the Q-Q plot than the P-P plot.\n",
    "This is due to the transformation that takes place when converting the plotting positions to a distribution's quantiles.\n",
    "The plot below hopefully illustrates this more clearly.\n",
    "Additionally, we'll show how use the `probax` option to flip the plot so that the P-P/Q-Q/Probability axis is on the y-scale."
   ]
  },
  {
   "cell_type": "code",
   "execution_count": null,
   "metadata": {
    "collapsed": false
   },
   "outputs": [],
   "source": [
    "fig, (ax1, ax2) = pyplot.subplots(figsize=(6, 6), ncols=2, sharex=True)\n",
    "markers = dict(marker='.', linestyle='none', label='Bill Amount')\n",
    "\n",
    "fig = probscale.probplot(tips['total_bill'], ax=ax1, plottype='pp', probax='y',\n",
    "                         datascale='log', problabel='Percentiles',\n",
    "                         datalabel='Total Bill (USD)', scatter_kws=markers)\n",
    "\n",
    "fig = probscale.probplot(tips['total_bill'], ax=ax2, plottype='qq', probax='y',\n",
    "                         datascale='log', problabel='Standard Normal Quantiles',\n",
    "                         datalabel='Total Bill (USD)', scatter_kws=markers)\n",
    "\n",
    "ax1.set_xlim(left=1, right=100)\n",
    "fig.tight_layout()\n",
    "seaborn.despine()"
   ]
  },
  {
   "cell_type": "markdown",
   "metadata": {},
   "source": [
    "In these case of P-P plots and simple Q-Q plots, the `probplot` function doesn't offer much convencience compared to writing raw matplotlib commands.\n",
    "However, this changes when you start making probability plots and using more advanced options.\n",
    "\n",
    "### Probability plots\n",
    "\n",
    "Visually, the curve of plots on probability and quantile scales should be the same.\n",
    "The difference is that the axis ticks are placed and labeled based on non-exceedance probailities rather than the more abstract quantiles of the distribution.\n",
    "\n",
    "Unsurprisingly, a picture explains this much better.\n",
    "Let's build off of the previos plot:"
   ]
  },
  {
   "cell_type": "code",
   "execution_count": null,
   "metadata": {
    "collapsed": false
   },
   "outputs": [],
   "source": [
    "fig, (ax1, ax2, ax3) = pyplot.subplots(figsize=(9, 6), ncols=3, sharex=True)\n",
    "common_opts = dict(\n",
    "    probax='y', \n",
    "    datascale='log', \n",
    "    datalabel='Total Bill (USD)',\n",
    "    scatter_kws=dict(marker='.', linestyle='none')\n",
    ")\n",
    "\n",
    "fig = probscale.probplot(tips['total_bill'], ax=ax1, plottype='pp',\n",
    "                         problabel='Percentiles',  **common_opts)\n",
    "\n",
    "fig = probscale.probplot(tips['total_bill'], ax=ax2, plottype='qq',\n",
    "                         problabel='Standard Normal Quantiles',  **common_opts)\n",
    "\n",
    "fig = probscale.probplot(tips['total_bill'], ax=ax3, plottype='prob',\n",
    "                         problabel='Standard Normal Probabilities',  **common_opts)\n",
    "\n",
    "ax3.set_xlim(left=1, right=100)\n",
    "ax3.set_ylim(bottom=0.13, top=99.87)\n",
    "fig.tight_layout()\n",
    "seaborn.despine()"
   ]
  },
  {
   "cell_type": "markdown",
   "metadata": {},
   "source": [
    "Visually, shapes of the curves on the right-most plots are identical.\n",
    "The difference is that the y-axis ticks and labels are more \"human\" readable.\n",
    "\n",
    "In other words, the probability (right) axis gives us the ease of finding e.g. the 75th percentile found on percentile (left) axis, and illustrates how well the data fit a given distribution like the quantile (middle) axes.\n",
    "\n",
    "## Using different distributions for your scales\n",
    "\n",
    "When using quantile or probability scales, you can pass a distribution from the `scipy.stats` module to the `probplot` function. When a distribution is not provided to the `dist` parameter, a standard normal distribution is used."
   ]
  },
  {
   "cell_type": "code",
   "execution_count": null,
   "metadata": {
    "collapsed": false
   },
   "outputs": [],
   "source": [
    "common_opts = dict(\n",
    "    plottype='prob',\n",
    "    probax='y',\n",
    "    datascale='log',\n",
    "    datalabel='Total Bill (USD)',\n",
    "    scatter_kws=dict(marker='+', linestyle='none', mew=1)\n",
    ")\n",
    "\n",
    "alpha = stats.alpha(10)\n",
    "beta = stats.beta(6, 3)\n",
    "\n",
    "fig, (ax1, ax2, ax3) = pyplot.subplots(figsize=(9, 6), ncols=3, sharex=True)\n",
    "fig = probscale.probplot(tips['total_bill'], ax=ax1, dist=alpha, \n",
    "                         problabel='Alpha(10) Probabilities', **common_opts)\n",
    "\n",
    "fig = probscale.probplot(tips['total_bill'], ax=ax2, dist=beta, \n",
    "                         problabel='Beta(6, 1) Probabilities', **common_opts)\n",
    "\n",
    "fig = probscale.probplot(tips['total_bill'], ax=ax3, dist=None,\n",
    "                         problabel='Standard Normal Probabilities', **common_opts)\n",
    "\n",
    "ax3.set_xlim(left=1, right=100)\n",
    "for ax in [ax1, ax2, ax3]:\n",
    "    ax.set_ylim(bottom=0.2, top=99.8)\n",
    "seaborn.despine()\n",
    "fig.tight_layout()"
   ]
  },
  {
   "cell_type": "markdown",
   "metadata": {},
   "source": [
    "This can also be done for QQ scales:"
   ]
  },
  {
   "cell_type": "code",
   "execution_count": null,
   "metadata": {
    "collapsed": false
   },
   "outputs": [],
   "source": [
    "common_opts = dict(\n",
    "    plottype='qq',\n",
    "    probax='y',\n",
    "    datascale='log',\n",
    "    datalabel='Total Bill (USD)',\n",
    "    scatter_kws=dict(marker='+', linestyle='none', mew=1)\n",
    ")\n",
    "\n",
    "alpha = stats.alpha(10)\n",
    "beta = stats.beta(6, 3)\n",
    "\n",
    "fig, (ax1, ax2, ax3) = pyplot.subplots(figsize=(9, 6), ncols=3, sharex=True)\n",
    "fig = probscale.probplot(tips['total_bill'], ax=ax1, dist=alpha, \n",
    "                         problabel='Alpha(10) Quantiles', **common_opts)\n",
    "\n",
    "fig = probscale.probplot(tips['total_bill'], ax=ax2, dist=beta, \n",
    "                         problabel='Beta(6, 3) Quantiles', **common_opts)\n",
    "\n",
    "fig = probscale.probplot(tips['total_bill'], ax=ax3, dist=None,\n",
    "                         problabel='Standard Normal Quantiles', **common_opts)\n",
    "\n",
    "ax1.set_xlim(left=1, right=100)\n",
    "seaborn.despine()\n",
    "fig.tight_layout()"
   ]
  },
  {
   "cell_type": "markdown",
   "metadata": {},
   "source": [
    "Using a specific distribution with a quantile scale can give us an idea of how well the data fit that distribution.\n",
    "For instance, let's say we have a hunch that the values of the `total_bill` column in our dataset are normally distributed and their mean and standard deviation are 19.8 and 8.9, respectively. \n",
    "We could investigate that by create a `scipy.stat.norm` distribution with those parameters and use that distribution in the Q-Q plot."
   ]
  },
  {
   "cell_type": "code",
   "execution_count": null,
   "metadata": {
    "collapsed": false,
    "scrolled": false
   },
   "outputs": [],
   "source": [
    "def equality_line(ax, label=None):\n",
    "    limits = [\n",
    "        numpy.min([ax.get_xlim(), ax.get_ylim()]),\n",
    "        numpy.max([ax.get_xlim(), ax.get_ylim()]),\n",
    "    ]\n",
    "    ax.set_xlim(limits)\n",
    "    ax.set_ylim(limits)\n",
    "    ax.plot(limits, limits, 'k-', alpha=0.75, zorder=0, label=label)\n",
    "\n",
    "norm = stats.norm(loc=21, scale=8)\n",
    "fig, ax = pyplot.subplots(figsize=(5, 5))\n",
    "ax.set_aspect('equal')\n",
    "\n",
    "common_opts = dict(\n",
    "    plottype='qq',\n",
    "    probax='x',\n",
    "    problabel='Theoretical Quantiles',\n",
    "    datalabel='Emperical Quantiles',\n",
    "    scatter_kws=dict(label='Bill amounts')\n",
    ")\n",
    "\n",
    "fig = probscale.probplot(tips['total_bill'], ax=ax, dist=norm, **common_opts)\n",
    "\n",
    "equality_line(ax, label='Guessed Normal Distribution')\n",
    "ax.legend(loc='lower right')\n",
    "seaborn.despine()"
   ]
  },
  {
   "cell_type": "markdown",
   "metadata": {},
   "source": [
    "Hmm.\n",
    "That doesn't look too good.\n",
    "Let's use scipy's fitting functionality to try out a lognormal distribution."
   ]
  },
  {
   "cell_type": "code",
   "execution_count": null,
   "metadata": {
    "collapsed": false
   },
   "outputs": [],
   "source": [
    "lognorm_params = stats.lognorm.fit(tips['total_bill'], floc=0)\n",
    "lognorm = stats.lognorm(*lognorm_params)\n",
    "fig, ax = pyplot.subplots(figsize=(5, 5))\n",
    "ax.set_aspect('equal')\n",
    "\n",
    "fig = probscale.probplot(tips['total_bill'], ax=ax, dist=lognorm, **common_opts)\n",
    "\n",
    "equality_line(ax, label='Fit Lognormal Distribution')\n",
    "ax.legend(loc='lower right')\n",
    "seaborn.despine()"
   ]
  },
  {
   "cell_type": "markdown",
   "metadata": {},
   "source": [
    "That's a little bit better.\n",
    "\n",
    "Finding the best distribution is left as an exercise to the reader."
   ]
  },
  {
   "cell_type": "markdown",
   "metadata": {},
   "source": [
    "## Best-fit lines\n",
    "\n",
    "Adding a best-fit line to a probability plot can provide insight as to whether or not a dataset can be characterized by a distribution.\n",
    "\n",
    "This is simply done with the `bestfit=True` option in `probplot`.\n",
    "Behind the scenes, `probplot` transforms both the x- and y-data of fed to the regression based on the plot type and scale of the data axis (controlled via `datascale`). \n",
    "\n",
    "Visual attributes of the line can be controled with the `line_kws` parameter.\n",
    "If you want label the best-fit line, that is where you specify its label.\n",
    "\n",
    "### Simple examples\n",
    "\n",
    "The most trivial case is a P-P plot with a linear data axis"
   ]
  },
  {
   "cell_type": "code",
   "execution_count": null,
   "metadata": {
    "collapsed": false
   },
   "outputs": [],
   "source": [
    "fig, ax = pyplot.subplots(figsize=(6, 3))\n",
    "fig = probscale.probplot(tips['total_bill'], ax=ax, plottype='pp', bestfit=True,\n",
    "                         problabel='Percentile', datalabel='Total Bill (USD)',\n",
    "                         scatter_kws=dict(label='Bill Amount'),\n",
    "                         line_kws=dict(label='Best-fit line'))\n",
    "ax.legend(loc='upper left')\n",
    "seaborn.despine()"
   ]
  },
  {
   "cell_type": "markdown",
   "metadata": {},
   "source": [
    "The least trivial case is a probability plot with a log-scaled data axes.\n",
    "\n",
    "As suggested by the section on quantile plots with custom distributions, using a normal probability scale with a lognormal data scale provides a decent fit (visually speaking).\n",
    "\n",
    "Note that you still put the probability scale on either the x- or y-axis."
   ]
  },
  {
   "cell_type": "code",
   "execution_count": null,
   "metadata": {
    "collapsed": false
   },
   "outputs": [],
   "source": [
    "fig, ax = pyplot.subplots(figsize=(4, 6))\n",
    "fig = probscale.probplot(tips['total_bill'], ax=ax, plottype='prob', probax='y', bestfit=True, \n",
    "                         datascale='log', problabel='Probabilities', datalabel='Total Bill (USD)',\n",
    "                         scatter_kws=dict(label='Bill Amount'),\n",
    "                         line_kws=dict(label='Best-fit line'))\n",
    "ax.legend(loc='upper left')\n",
    "ax.set_ylim(bottom=0.1, top=99.9)\n",
    "ax.set_xlim(left=1, right=100)\n",
    "seaborn.despine()"
   ]
  },
  {
   "cell_type": "markdown",
   "metadata": {},
   "source": [
    "### Bootstrapped confidence intervals\n",
    "\n",
    "Regardless of the scales of the plot (linear, log, or prob), you can add bootstrapped confidence intervals around the best-fit line. \n",
    "Simply use the ``estimate_ci=True`` option along with ``bestfit=True``:"
   ]
  },
  {
   "cell_type": "code",
   "execution_count": null,
   "metadata": {
    "collapsed": false
   },
   "outputs": [],
   "source": [
    "N = 15\n",
    "numpy.random.seed(0)\n",
    "x = numpy.random.normal(size=N) + numpy.random.uniform(size=N)\n",
    "fig, ax = pyplot.subplots(figsize=(8, 4))\n",
    "fig = probscale.probplot(x, ax=ax, bestfit=True, estimate_ci=True, \n",
    "                         line_kws={'label': 'BF Line', 'color': 'b'},\n",
    "                         scatter_kws={'label': 'Observations'},\n",
    "                         problabel='Probability (%)')\n",
    "ax.legend(loc='lower right')\n",
    "ax.set_ylim(bottom=-2, top=4)\n",
    "seaborn.despine(fig)"
   ]
  },
  {
   "cell_type": "markdown",
   "metadata": {},
   "source": [
    "## Tuning the plotting positions "
   ]
  },
  {
   "cell_type": "raw",
   "metadata": {},
   "source": [
    "The ``probplot`` function calls the :func:`viz.plot_plos` function to compute each dataset's plotting positions.\n",
    "\n",
    "You should read that function's docstring for more detailed information.\n",
    "But the high-level overview is that there are a couple of parameters (``alpha`` and ``beta``) that you can tweak in the plotting positions calculation.\n",
    "\n",
    "The most common values can be selected via the ``postype`` parameter.\n",
    "\n",
    "These are controlled via the `pp_kws` parameter in `probplot`\n",
    "and are discussed in much more detail in the `next tutorial <closer_look_at_plot_pos.html>`_."
   ]
  },
  {
   "cell_type": "code",
   "execution_count": null,
   "metadata": {
    "collapsed": false
   },
   "outputs": [],
   "source": [
    "common_opts = dict(\n",
    "    plottype='prob',\n",
    "    probax='x',\n",
    "    datalabel='Data',\n",
    ")\n",
    "\n",
    "numpy.random.seed(0)\n",
    "x = numpy.random.normal(size=15)\n",
    "\n",
    "fig, (ax1, ax2, ax3) = pyplot.subplots(figsize=(6, 6), nrows=3,\n",
    "                                       sharey=True, sharex=True)\n",
    "fig = probscale.probplot(x, ax=ax1, problabel='Cunnuane (default) plotting positions',\n",
    "                         **common_opts)\n",
    "\n",
    "fig = probscale.probplot(x, ax=ax2, problabel='Weibull plotting positions',\n",
    "                         pp_kws=dict(postype='weibull'), **common_opts)\n",
    "\n",
    "fig = probscale.probplot(x, ax=ax3, problabel='Custom plotting positions',\n",
    "                         pp_kws=dict(alpha=0.6, beta=0.1), **common_opts)\n",
    "ax1.set_xlim(left=1, right=99)\n",
    "seaborn.despine()\n",
    "fig.tight_layout()"
   ]
  },
  {
   "cell_type": "markdown",
   "metadata": {},
   "source": [
    "## Controlling the aesthetics of the plot elements\n",
    "\n",
    "As it has been hinted in the examples above, the `probplot` function takes two dictionaries to customize the data series and the best-fit line (`scatter_kws` and `line_kws`, respectively.\n",
    "These dictionaries are passed directly to the `plot` method of current axes.\n",
    "\n",
    "By default, the data series assumes that `linestyle='none'` and `marker='o'`.\n",
    "These can be overwritten through `scatter_kws`\n",
    "\n",
    "Revisting the previous example, we can customize it like so:"
   ]
  },
  {
   "cell_type": "code",
   "execution_count": null,
   "metadata": {
    "collapsed": false
   },
   "outputs": [],
   "source": [
    "scatter_options = dict(\n",
    "    marker='^',\n",
    "    markerfacecolor='none',\n",
    "    markeredgecolor='firebrick',\n",
    "    markeredgewidth=1.25,\n",
    "    linestyle='none',\n",
    "    alpha=0.35,\n",
    "    zorder=5,\n",
    "    label='Meal Cost ($)'\n",
    ")\n",
    "\n",
    "line_options = dict(\n",
    "    dashes=(10,2,5,2,10,2),\n",
    "    color='0.25',\n",
    "    linewidth=3,\n",
    "    zorder=10,\n",
    "    label='Best-fit line'\n",
    ") \n",
    "\n",
    "fig, ax = pyplot.subplots(figsize=(4, 6))\n",
    "fig = probscale.probplot(tips['total_bill'], ax=ax, plottype='prob', probax='y', bestfit=True, \n",
    "                         datascale='log', problabel='Probabilities', datalabel='Total Bill (USD)',\n",
    "                         scatter_kws=scatter_options, line_kws=line_options)\n",
    "ax.legend(loc='upper left')\n",
    "ax.set_ylim(bottom=0.1, top=99.9)\n",
    "seaborn.despine()"
   ]
  },
  {
   "cell_type": "raw",
   "metadata": {},
   "source": [
    ".. note::\n",
    "   The ``probplot`` function can take two additional aesthetic parameters:\n",
    "   `color` and `label`. If provided, `color` will override the marker face color\n",
    "   and line color options of the `scatter_kws` and `line_kws` parameters, respectively.\n",
    "   Similarly, the label of the scatter series will be overridden by the explicit parameter.\n",
    "   It is not recommended that `color` and `label` are used. They exist primarily for \n",
    "   compatibility with the seaborn package."
   ]
  },
  {
   "cell_type": "markdown",
   "metadata": {},
   "source": [
    "## Mapping probability plots to seaborn [FacetGrids](http://stanford.edu/~mwaskom/software/seaborn/tutorial/axis_grids.html#subsetting-data-with-facetgrid)\n",
    "\n",
    "In general, `probplot` was written with `FacetGrids` in mind.\n",
    "All you need to do is specify the data column and other options in the call to `FacetGrid.map`.\n",
    "\n",
    "Unfortunately the labels don't work out exactly like I want, but it's a work in progress."
   ]
  },
  {
   "cell_type": "code",
   "execution_count": null,
   "metadata": {
    "collapsed": false
   },
   "outputs": [],
   "source": [
    "fg = (\n",
    "    seaborn.FacetGrid(data=iris, hue='species', aspect=2)\n",
    "        .map(probscale.probplot, 'sepal_length')\n",
    "        .set_axis_labels(x_var='Probability', y_var='Sepal Length')\n",
    "        .add_legend()\n",
    ")"
   ]
  },
  {
   "cell_type": "code",
   "execution_count": null,
   "metadata": {
    "collapsed": false
   },
   "outputs": [],
   "source": [
    "fg = (\n",
    "    seaborn.FacetGrid(data=iris, hue='species', aspect=2)\n",
    "        .map(probscale.probplot, 'petal_length', plottype='qq', probax='y')\n",
    "        .set_ylabels('Quantiles')\n",
    "        .add_legend()\n",
    ")"
   ]
  },
  {
   "cell_type": "code",
   "execution_count": null,
   "metadata": {
    "collapsed": false
   },
   "outputs": [],
   "source": [
    "fg = (\n",
    "    seaborn.FacetGrid(data=tips, hue='sex', row='smoker', col='time', margin_titles=True, size=4)\n",
    "        .map(probscale.probplot, 'total_bill', probax='y', bestfit=True)\n",
    "        .set_ylabels('Probability')\n",
    "        .add_legend()\n",
    ")"
   ]
  }
 ],
 "metadata": {
  "anaconda-cloud": {},
  "kernelspec": {
   "display_name": "Python [default]",
   "language": "python",
   "name": "python3"
  },
  "language_info": {
   "codemirror_mode": {
    "name": "ipython",
    "version": 3
   },
   "file_extension": ".py",
   "mimetype": "text/x-python",
   "name": "python",
   "nbconvert_exporter": "python",
   "pygments_lexer": "ipython3",
   "version": "3.5.2"
  }
 },
 "nbformat": 4,
 "nbformat_minor": 0
}
